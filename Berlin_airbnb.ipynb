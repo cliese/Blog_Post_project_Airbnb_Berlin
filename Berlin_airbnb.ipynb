{
 "cells": [
  {
   "cell_type": "code",
   "execution_count": 113,
   "metadata": {},
   "outputs": [],
   "source": [
    "import numpy as np\n",
    "import pandas as pd\n",
    "import matplotlib.pyplot as plt\n",
    "from IPython import display\n",
    "%matplotlib inline\n",
    "import seaborn as sns\n",
    "import nltk\n",
    "from nltk.sentiment.vader import SentimentIntensityAnalyzer\n",
    "from collections import Counter\n",
    "from sklearn.model_selection import train_test_split\n",
    "from sklearn.linear_model import LinearRegression\n",
    "from sklearn.metrics import r2_score\n",
    "import datetime"
   ]
  },
  {
   "cell_type": "code",
   "execution_count": 114,
   "metadata": {},
   "outputs": [],
   "source": [
    "#Load in the data\n",
    "\n",
    "df_calendar = pd.read_csv('/Users/Caddi/Data/BerlinAirbnb/calendar.csv')\n",
    "df_listings = pd.read_csv('/Users/Caddi/Data/BerlinAirbnb/listings.csv')\n",
    "df_reviews = pd.read_csv('/Users/Caddi/Data/BerlinAirbnb/reviews.csv')"
   ]
  },
  {
   "cell_type": "code",
   "execution_count": 145,
   "metadata": {},
   "outputs": [
    {
     "data": {
      "text/html": [
       "<div>\n",
       "<style scoped>\n",
       "    .dataframe tbody tr th:only-of-type {\n",
       "        vertical-align: middle;\n",
       "    }\n",
       "\n",
       "    .dataframe tbody tr th {\n",
       "        vertical-align: top;\n",
       "    }\n",
       "\n",
       "    .dataframe thead th {\n",
       "        text-align: right;\n",
       "    }\n",
       "</style>\n",
       "<table border=\"1\" class=\"dataframe\">\n",
       "  <thead>\n",
       "    <tr style=\"text-align: right;\">\n",
       "      <th></th>\n",
       "      <th>id</th>\n",
       "      <th>listing_url</th>\n",
       "      <th>scrape_id</th>\n",
       "      <th>last_scraped</th>\n",
       "      <th>name</th>\n",
       "      <th>summary</th>\n",
       "      <th>space</th>\n",
       "      <th>description</th>\n",
       "      <th>experiences_offered</th>\n",
       "      <th>neighborhood_overview</th>\n",
       "      <th>...</th>\n",
       "      <th>instant_bookable</th>\n",
       "      <th>is_business_travel_ready</th>\n",
       "      <th>cancellation_policy</th>\n",
       "      <th>require_guest_profile_picture</th>\n",
       "      <th>require_guest_phone_verification</th>\n",
       "      <th>calculated_host_listings_count</th>\n",
       "      <th>calculated_host_listings_count_entire_homes</th>\n",
       "      <th>calculated_host_listings_count_private_rooms</th>\n",
       "      <th>calculated_host_listings_count_shared_rooms</th>\n",
       "      <th>reviews_per_month</th>\n",
       "    </tr>\n",
       "  </thead>\n",
       "  <tbody>\n",
       "    <tr>\n",
       "      <th>0</th>\n",
       "      <td>2695</td>\n",
       "      <td>https://www.airbnb.com/rooms/2695</td>\n",
       "      <td>20190514043746</td>\n",
       "      <td>2019-05-14</td>\n",
       "      <td>Prenzlauer Berg close to Mauerpark</td>\n",
       "      <td>NaN</td>\n",
       "      <td>In the summertime we are spending most of our ...</td>\n",
       "      <td>In the summertime we are spending most of our ...</td>\n",
       "      <td>none</td>\n",
       "      <td>NaN</td>\n",
       "      <td>...</td>\n",
       "      <td>f</td>\n",
       "      <td>f</td>\n",
       "      <td>moderate</td>\n",
       "      <td>f</td>\n",
       "      <td>f</td>\n",
       "      <td>1</td>\n",
       "      <td>0</td>\n",
       "      <td>1</td>\n",
       "      <td>0</td>\n",
       "      <td>0.67</td>\n",
       "    </tr>\n",
       "    <tr>\n",
       "      <th>1</th>\n",
       "      <td>3176</td>\n",
       "      <td>https://www.airbnb.com/rooms/3176</td>\n",
       "      <td>20190514043746</td>\n",
       "      <td>2019-05-14</td>\n",
       "      <td>Fabulous Flat in great Location</td>\n",
       "      <td>This beautiful first floor apartment  is situa...</td>\n",
       "      <td>1st floor (68m2) apartment on Kollwitzplatz/ P...</td>\n",
       "      <td>This beautiful first floor apartment  is situa...</td>\n",
       "      <td>none</td>\n",
       "      <td>The neighbourhood is famous for its variety of...</td>\n",
       "      <td>...</td>\n",
       "      <td>f</td>\n",
       "      <td>f</td>\n",
       "      <td>strict_14_with_grace_period</td>\n",
       "      <td>f</td>\n",
       "      <td>f</td>\n",
       "      <td>1</td>\n",
       "      <td>1</td>\n",
       "      <td>0</td>\n",
       "      <td>0</td>\n",
       "      <td>1.19</td>\n",
       "    </tr>\n",
       "    <tr>\n",
       "      <th>2</th>\n",
       "      <td>7071</td>\n",
       "      <td>https://www.airbnb.com/rooms/7071</td>\n",
       "      <td>20190514043746</td>\n",
       "      <td>2019-05-14</td>\n",
       "      <td>BrightRoom with sunny greenview!</td>\n",
       "      <td>Cozy and large room in the beautiful district ...</td>\n",
       "      <td>The BrightRoom is an approx. 20 sqm (215ft²), ...</td>\n",
       "      <td>Cozy and large room in the beautiful district ...</td>\n",
       "      <td>none</td>\n",
       "      <td>Great neighborhood with plenty of Cafés, Baker...</td>\n",
       "      <td>...</td>\n",
       "      <td>f</td>\n",
       "      <td>f</td>\n",
       "      <td>moderate</td>\n",
       "      <td>f</td>\n",
       "      <td>f</td>\n",
       "      <td>2</td>\n",
       "      <td>0</td>\n",
       "      <td>2</td>\n",
       "      <td>0</td>\n",
       "      <td>1.93</td>\n",
       "    </tr>\n",
       "    <tr>\n",
       "      <th>3</th>\n",
       "      <td>9991</td>\n",
       "      <td>https://www.airbnb.com/rooms/9991</td>\n",
       "      <td>20190514043746</td>\n",
       "      <td>2019-05-14</td>\n",
       "      <td>Geourgeous flat - outstanding views</td>\n",
       "      <td>4 bedroom with very large windows and outstand...</td>\n",
       "      <td>THE APPARTMENT - 4 bedroom (US, Germany: 5 roo...</td>\n",
       "      <td>4 bedroom with very large windows and outstand...</td>\n",
       "      <td>none</td>\n",
       "      <td>Prenzlauer Berg is an amazing neighbourhood wh...</td>\n",
       "      <td>...</td>\n",
       "      <td>f</td>\n",
       "      <td>f</td>\n",
       "      <td>strict_14_with_grace_period</td>\n",
       "      <td>f</td>\n",
       "      <td>f</td>\n",
       "      <td>1</td>\n",
       "      <td>1</td>\n",
       "      <td>0</td>\n",
       "      <td>0</td>\n",
       "      <td>0.13</td>\n",
       "    </tr>\n",
       "    <tr>\n",
       "      <th>4</th>\n",
       "      <td>14325</td>\n",
       "      <td>https://www.airbnb.com/rooms/14325</td>\n",
       "      <td>20190514043746</td>\n",
       "      <td>2019-05-14</td>\n",
       "      <td>Apartment in Prenzlauer Berg</td>\n",
       "      <td>The apartment is located on the upper second f...</td>\n",
       "      <td>The apartment is located on the south-facing s...</td>\n",
       "      <td>The apartment is located on the upper second f...</td>\n",
       "      <td>none</td>\n",
       "      <td>NaN</td>\n",
       "      <td>...</td>\n",
       "      <td>f</td>\n",
       "      <td>f</td>\n",
       "      <td>strict_14_with_grace_period</td>\n",
       "      <td>f</td>\n",
       "      <td>f</td>\n",
       "      <td>4</td>\n",
       "      <td>4</td>\n",
       "      <td>0</td>\n",
       "      <td>0</td>\n",
       "      <td>0.21</td>\n",
       "    </tr>\n",
       "  </tbody>\n",
       "</table>\n",
       "<p>5 rows × 106 columns</p>\n",
       "</div>"
      ],
      "text/plain": [
       "      id                         listing_url       scrape_id last_scraped  \\\n",
       "0   2695   https://www.airbnb.com/rooms/2695  20190514043746   2019-05-14   \n",
       "1   3176   https://www.airbnb.com/rooms/3176  20190514043746   2019-05-14   \n",
       "2   7071   https://www.airbnb.com/rooms/7071  20190514043746   2019-05-14   \n",
       "3   9991   https://www.airbnb.com/rooms/9991  20190514043746   2019-05-14   \n",
       "4  14325  https://www.airbnb.com/rooms/14325  20190514043746   2019-05-14   \n",
       "\n",
       "                                  name  \\\n",
       "0   Prenzlauer Berg close to Mauerpark   \n",
       "1      Fabulous Flat in great Location   \n",
       "2     BrightRoom with sunny greenview!   \n",
       "3  Geourgeous flat - outstanding views   \n",
       "4         Apartment in Prenzlauer Berg   \n",
       "\n",
       "                                             summary  \\\n",
       "0                                                NaN   \n",
       "1  This beautiful first floor apartment  is situa...   \n",
       "2  Cozy and large room in the beautiful district ...   \n",
       "3  4 bedroom with very large windows and outstand...   \n",
       "4  The apartment is located on the upper second f...   \n",
       "\n",
       "                                               space  \\\n",
       "0  In the summertime we are spending most of our ...   \n",
       "1  1st floor (68m2) apartment on Kollwitzplatz/ P...   \n",
       "2  The BrightRoom is an approx. 20 sqm (215ft²), ...   \n",
       "3  THE APPARTMENT - 4 bedroom (US, Germany: 5 roo...   \n",
       "4  The apartment is located on the south-facing s...   \n",
       "\n",
       "                                         description experiences_offered  \\\n",
       "0  In the summertime we are spending most of our ...                none   \n",
       "1  This beautiful first floor apartment  is situa...                none   \n",
       "2  Cozy and large room in the beautiful district ...                none   \n",
       "3  4 bedroom with very large windows and outstand...                none   \n",
       "4  The apartment is located on the upper second f...                none   \n",
       "\n",
       "                               neighborhood_overview        ...          \\\n",
       "0                                                NaN        ...           \n",
       "1  The neighbourhood is famous for its variety of...        ...           \n",
       "2  Great neighborhood with plenty of Cafés, Baker...        ...           \n",
       "3  Prenzlauer Berg is an amazing neighbourhood wh...        ...           \n",
       "4                                                NaN        ...           \n",
       "\n",
       "  instant_bookable is_business_travel_ready          cancellation_policy  \\\n",
       "0                f                        f                     moderate   \n",
       "1                f                        f  strict_14_with_grace_period   \n",
       "2                f                        f                     moderate   \n",
       "3                f                        f  strict_14_with_grace_period   \n",
       "4                f                        f  strict_14_with_grace_period   \n",
       "\n",
       "  require_guest_profile_picture require_guest_phone_verification  \\\n",
       "0                             f                                f   \n",
       "1                             f                                f   \n",
       "2                             f                                f   \n",
       "3                             f                                f   \n",
       "4                             f                                f   \n",
       "\n",
       "   calculated_host_listings_count  \\\n",
       "0                               1   \n",
       "1                               1   \n",
       "2                               2   \n",
       "3                               1   \n",
       "4                               4   \n",
       "\n",
       "   calculated_host_listings_count_entire_homes  \\\n",
       "0                                            0   \n",
       "1                                            1   \n",
       "2                                            0   \n",
       "3                                            1   \n",
       "4                                            4   \n",
       "\n",
       "  calculated_host_listings_count_private_rooms  \\\n",
       "0                                            1   \n",
       "1                                            0   \n",
       "2                                            2   \n",
       "3                                            0   \n",
       "4                                            0   \n",
       "\n",
       "   calculated_host_listings_count_shared_rooms  reviews_per_month  \n",
       "0                                            0               0.67  \n",
       "1                                            0               1.19  \n",
       "2                                            0               1.93  \n",
       "3                                            0               0.13  \n",
       "4                                            0               0.21  \n",
       "\n",
       "[5 rows x 106 columns]"
      ]
     },
     "execution_count": 145,
     "metadata": {},
     "output_type": "execute_result"
    }
   ],
   "source": [
    "df_listings.head()"
   ]
  },
  {
   "cell_type": "markdown",
   "metadata": {},
   "source": [
    "In a first step, we will explore the datasets. "
   ]
  },
  {
   "cell_type": "code",
   "execution_count": 146,
   "metadata": {},
   "outputs": [
    {
     "name": "stdout",
     "output_type": "stream",
     "text": [
      "Number of rows and columns:  (23536, 106)\n",
      "id                                                  0\n",
      "listing_url                                         0\n",
      "scrape_id                                           0\n",
      "last_scraped                                        0\n",
      "name                                               54\n",
      "summary                                          1069\n",
      "space                                            8410\n",
      "description                                       297\n",
      "experiences_offered                                 0\n",
      "neighborhood_overview                           10776\n",
      "notes                                           15779\n",
      "transit                                          9289\n",
      "access                                          12215\n",
      "interaction                                     11986\n",
      "house_rules                                     11540\n",
      "thumbnail_url                                   23536\n",
      "medium_url                                      23536\n",
      "picture_url                                         0\n",
      "xl_picture_url                                  23536\n",
      "host_id                                             0\n",
      "host_url                                            0\n",
      "host_name                                          21\n",
      "host_since                                         21\n",
      "host_location                                     113\n",
      "host_about                                      11791\n",
      "host_response_time                              10490\n",
      "host_response_rate                              10490\n",
      "host_acceptance_rate                            23536\n",
      "host_is_superhost                                  21\n",
      "host_thumbnail_url                                 21\n",
      "                                                ...  \n",
      "has_availability                                    0\n",
      "availability_30                                     0\n",
      "availability_60                                     0\n",
      "availability_90                                     0\n",
      "availability_365                                    0\n",
      "calendar_last_scraped                               0\n",
      "number_of_reviews                                   0\n",
      "number_of_reviews_ltm                               0\n",
      "first_review                                     4156\n",
      "last_review                                      4156\n",
      "review_scores_rating                             4622\n",
      "review_scores_accuracy                           4648\n",
      "review_scores_cleanliness                        4644\n",
      "review_scores_checkin                            4666\n",
      "review_scores_communication                      4650\n",
      "review_scores_location                           4665\n",
      "review_scores_value                              4668\n",
      "requires_license                                    0\n",
      "license                                         21345\n",
      "jurisdiction_names                              23536\n",
      "instant_bookable                                    0\n",
      "is_business_travel_ready                            0\n",
      "cancellation_policy                                 0\n",
      "require_guest_profile_picture                       0\n",
      "require_guest_phone_verification                    0\n",
      "calculated_host_listings_count                      0\n",
      "calculated_host_listings_count_entire_homes         0\n",
      "calculated_host_listings_count_private_rooms        0\n",
      "calculated_host_listings_count_shared_rooms         0\n",
      "reviews_per_month                                4156\n",
      "Length: 106, dtype: int64\n"
     ]
    }
   ],
   "source": [
    "# First, the listings data\n",
    "# Print rows and columns in calendar data set\n",
    "print(\"Number of rows and columns: \", df_listings.shape)\n",
    "# Assess null values\n",
    "print(df_listings.isnull().sum())"
   ]
  },
  {
   "cell_type": "code",
   "execution_count": 147,
   "metadata": {},
   "outputs": [],
   "source": [
    "#Find columns with many missing values\n",
    "#df_listings.isna().mean()\n",
    "\n"
   ]
  },
  {
   "cell_type": "code",
   "execution_count": 148,
   "metadata": {},
   "outputs": [
    {
     "name": "stdout",
     "output_type": "stream",
     "text": [
      "[]\n"
     ]
    }
   ],
   "source": [
    "# drop columns that where all entries are equal\n",
    "irrelevant=[]\n",
    "for col in listings.columns:\n",
    "    if listings[col].nunique() == 1 :\n",
    "        irrelevant.append(col)\n",
    "print(irrelevant)        "
   ]
  },
  {
   "cell_type": "markdown",
   "metadata": {},
   "source": [
    "We drop  columns that are not useful for our model, e.g hyperlinks, host names, text descriptons ( as we are not performing sentiment analysis). We also drop to refined spatial information, like 'latitude', 'longitude'.\n"
   ]
  },
  {
   "cell_type": "code",
   "execution_count": 189,
   "metadata": {},
   "outputs": [
    {
     "data": {
      "text/html": [
       "<div>\n",
       "<style scoped>\n",
       "    .dataframe tbody tr th:only-of-type {\n",
       "        vertical-align: middle;\n",
       "    }\n",
       "\n",
       "    .dataframe tbody tr th {\n",
       "        vertical-align: top;\n",
       "    }\n",
       "\n",
       "    .dataframe thead th {\n",
       "        text-align: right;\n",
       "    }\n",
       "</style>\n",
       "<table border=\"1\" class=\"dataframe\">\n",
       "  <thead>\n",
       "    <tr style=\"text-align: right;\">\n",
       "      <th></th>\n",
       "      <th>host_since</th>\n",
       "      <th>host_response_time</th>\n",
       "      <th>host_response_rate</th>\n",
       "      <th>host_acceptance_rate</th>\n",
       "      <th>host_is_superhost</th>\n",
       "      <th>host_identity_verified</th>\n",
       "      <th>city</th>\n",
       "      <th>neighbourhood_group_cleansed</th>\n",
       "      <th>property_type</th>\n",
       "      <th>room_type</th>\n",
       "      <th>...</th>\n",
       "      <th>review_scores_communication</th>\n",
       "      <th>review_scores_value</th>\n",
       "      <th>requires_license</th>\n",
       "      <th>license</th>\n",
       "      <th>instant_bookable</th>\n",
       "      <th>cancellation_policy</th>\n",
       "      <th>require_guest_profile_picture</th>\n",
       "      <th>require_guest_phone_verification</th>\n",
       "      <th>calculated_host_listings_count</th>\n",
       "      <th>reviews_per_month</th>\n",
       "    </tr>\n",
       "  </thead>\n",
       "  <tbody>\n",
       "    <tr>\n",
       "      <th>0</th>\n",
       "      <td>2008-09-16</td>\n",
       "      <td>within a day</td>\n",
       "      <td>50%</td>\n",
       "      <td>NaN</td>\n",
       "      <td>f</td>\n",
       "      <td>t</td>\n",
       "      <td>Berlin</td>\n",
       "      <td>Pankow</td>\n",
       "      <td>Apartment</td>\n",
       "      <td>Private room</td>\n",
       "      <td>...</td>\n",
       "      <td>10.0</td>\n",
       "      <td>10.0</td>\n",
       "      <td>t</td>\n",
       "      <td>NaN</td>\n",
       "      <td>f</td>\n",
       "      <td>moderate</td>\n",
       "      <td>f</td>\n",
       "      <td>f</td>\n",
       "      <td>1</td>\n",
       "      <td>0.67</td>\n",
       "    </tr>\n",
       "    <tr>\n",
       "      <th>1</th>\n",
       "      <td>2008-10-19</td>\n",
       "      <td>within a day</td>\n",
       "      <td>50%</td>\n",
       "      <td>NaN</td>\n",
       "      <td>f</td>\n",
       "      <td>t</td>\n",
       "      <td>Berlin</td>\n",
       "      <td>Pankow</td>\n",
       "      <td>Apartment</td>\n",
       "      <td>Entire home/apt</td>\n",
       "      <td>...</td>\n",
       "      <td>9.0</td>\n",
       "      <td>9.0</td>\n",
       "      <td>t</td>\n",
       "      <td>NaN</td>\n",
       "      <td>f</td>\n",
       "      <td>strict_14_with_grace_period</td>\n",
       "      <td>f</td>\n",
       "      <td>f</td>\n",
       "      <td>1</td>\n",
       "      <td>1.19</td>\n",
       "    </tr>\n",
       "  </tbody>\n",
       "</table>\n",
       "<p>2 rows × 43 columns</p>\n",
       "</div>"
      ],
      "text/plain": [
       "   host_since host_response_time host_response_rate  host_acceptance_rate  \\\n",
       "0  2008-09-16       within a day                50%                   NaN   \n",
       "1  2008-10-19       within a day                50%                   NaN   \n",
       "\n",
       "  host_is_superhost host_identity_verified    city  \\\n",
       "0                 f                      t  Berlin   \n",
       "1                 f                      t  Berlin   \n",
       "\n",
       "  neighbourhood_group_cleansed property_type        room_type  \\\n",
       "0                       Pankow     Apartment     Private room   \n",
       "1                       Pankow     Apartment  Entire home/apt   \n",
       "\n",
       "         ...         review_scores_communication  review_scores_value  \\\n",
       "0        ...                                10.0                 10.0   \n",
       "1        ...                                 9.0                  9.0   \n",
       "\n",
       "   requires_license  license instant_bookable          cancellation_policy  \\\n",
       "0                 t      NaN                f                     moderate   \n",
       "1                 t      NaN                f  strict_14_with_grace_period   \n",
       "\n",
       "   require_guest_profile_picture require_guest_phone_verification  \\\n",
       "0                              f                                f   \n",
       "1                              f                                f   \n",
       "\n",
       "  calculated_host_listings_count reviews_per_month  \n",
       "0                              1              0.67  \n",
       "1                              1              1.19  \n",
       "\n",
       "[2 rows x 43 columns]"
      ]
     },
     "execution_count": 189,
     "metadata": {},
     "output_type": "execute_result"
    }
   ],
   "source": [
    "# drop columns that are not relevant for prediction\n",
    "cols = [ 'host_since', 'host_response_time', 'host_response_rate', 'host_acceptance_rate', \n",
    "             'host_is_superhost', \\\n",
    "             'host_identity_verified', 'city', 'neighbourhood_group_cleansed', \\\n",
    "              'property_type', 'room_type', 'accommodates', 'bathrooms', \\\n",
    "             'bedrooms', 'beds', 'bed_type', 'amenities', 'square_feet', 'price', 'weekly_price', \\\n",
    "             'monthly_price', 'security_deposit', 'cleaning_fee', 'guests_included', 'extra_people', \\\n",
    "             'minimum_nights', 'maximum_nights', 'availability_365', 'number_of_reviews', \\\n",
    "             'first_review', 'review_scores_rating', 'review_scores_accuracy', 'review_scores_cleanliness', \\\n",
    "             'review_scores_checkin', 'review_scores_communication', 'review_scores_value', 'requires_license', \\\n",
    "             'license', 'instant_bookable', 'cancellation_policy', 'require_guest_profile_picture', \\\n",
    "             'require_guest_phone_verification', 'calculated_host_listings_count', 'reviews_per_month']\n",
    "listings = df_listings[cols]\n",
    "\n",
    "listings.head(2)\n"
   ]
  },
  {
   "cell_type": "code",
   "execution_count": 190,
   "metadata": {},
   "outputs": [
    {
     "name": "stdout",
     "output_type": "stream",
     "text": [
      "{'host_acceptance_rate': 1.0, 'square_feet': 0.9819425560842964, 'weekly_price': 0.8550305914343984, 'monthly_price': 0.8953093133922502, 'license': 0.9069085656016316}\n"
     ]
    }
   ],
   "source": [
    "# find columns that have more than thresh percent of missing values\n",
    "thresh = 0.70\n",
    "droplist = []\n",
    "drop_dic = {}\n",
    "for col in listings.columns:\n",
    "    if listings[col].isna().mean() >= thresh :\n",
    "        droplist.append(col)\n",
    "        drop_dic[col] = listings[col].isna().mean()\n",
    "\n",
    "   \n",
    "#df_listings_drop = listings.drop( droplist, axis =1 )\n",
    "\n",
    "print(drop_dic)        \n",
    "        \n",
    "      "
   ]
  },
  {
   "cell_type": "markdown",
   "metadata": {},
   "source": [
    "Of the columns we drop, weekly_price and monthly_price are just other measures of price, so we can safely discard them. host_acceptance_rate, square_feet and license have too many missing values to keep (above 90%). The remaining colums have less than 70% missing values. We will try to fill these in. "
   ]
  },
  {
   "cell_type": "code",
   "execution_count": 191,
   "metadata": {},
   "outputs": [],
   "source": [
    "listings_drop = listings.drop( droplist, axis =1 )  "
   ]
  },
  {
   "cell_type": "markdown",
   "metadata": {},
   "source": [
    "To get a better feel for the missing values, we calculate a histogramm.\n"
   ]
  },
  {
   "cell_type": "code",
   "execution_count": 192,
   "metadata": {},
   "outputs": [
    {
     "data": {
      "text/plain": [
       "host_response_time             0.445700\n",
       "host_response_rate             0.445700\n",
       "security_deposit               0.397561\n",
       "cleaning_fee                   0.301028\n",
       "review_scores_value            0.198334\n",
       "review_scores_checkin          0.198249\n",
       "review_scores_communication    0.197570\n",
       "review_scores_accuracy         0.197485\n",
       "review_scores_cleanliness      0.197315\n",
       "review_scores_rating           0.196380\n",
       "dtype: float64"
      ]
     },
     "execution_count": 192,
     "metadata": {},
     "output_type": "execute_result"
    },
    {
     "data": {
      "image/png": "[encoded data removed]",
      "text/plain": [
       "<Figure size 432x288 with 1 Axes>"
      ]
     },
     "metadata": {
      "needs_background": "light"
     },
     "output_type": "display_data"
    }
   ],
   "source": [
    "\n",
    "nan_cols = (listings_drop.isnull().mean()).sort_values(ascending = False)\n",
    "ax = nan_cols.hist()  \n",
    "ax.set_xlabel(\"% NaN\")\n",
    "ax.set_ylabel(\"Column Count\")\n",
    "nan_cols.head(n=10)\n"
   ]
  },
  {
   "cell_type": "code",
   "execution_count": 193,
   "metadata": {},
   "outputs": [
    {
     "name": "stdout",
     "output_type": "stream",
     "text": [
      "accommodates 0\n",
      "bathrooms 29\n",
      "bedrooms 20\n",
      "beds 35\n",
      "guests_included 0\n",
      "minimum_nights 0\n",
      "maximum_nights 0\n",
      "availability_365 0\n",
      "number_of_reviews 0\n",
      "review_scores_rating 4622\n",
      "review_scores_accuracy 4648\n",
      "review_scores_cleanliness 4644\n",
      "review_scores_checkin 4666\n",
      "review_scores_communication 4650\n",
      "review_scores_value 4668\n",
      "calculated_host_listings_count 0\n",
      "reviews_per_month 4156\n"
     ]
    }
   ],
   "source": [
    "# Review all the numerical columns and assess missing values\n",
    "\n",
    "num_cols = listings_drop.select_dtypes(include=['float', 'int']).columns\n",
    "for col in num_cols:\n",
    "    print(col,listings_drop[col].isnull().sum())"
   ]
  },
  {
   "cell_type": "markdown",
   "metadata": {},
   "source": [
    "We will set all NaN values in beds, bedrooms and bathrooms to 1. \n",
    "\n",
    "The review scores columns will be set to 0 as we will assume that there are no reviews."
   ]
  },
  {
   "cell_type": "code",
   "execution_count": 194,
   "metadata": {},
   "outputs": [],
   "source": [
    "# Impute the missing values.\n",
    "for col in num_cols :\n",
    "    if col in ['bathrooms','bedrooms','beds'] :\n",
    "        listings_drop[col] = listings_drop[col].fillna(1)\n",
    "    else :\n",
    "        listings_drop[col] = listings_drop[col].fillna(0)\n",
    "        "
   ]
  },
  {
   "cell_type": "code",
   "execution_count": 195,
   "metadata": {},
   "outputs": [
    {
     "name": "stdout",
     "output_type": "stream",
     "text": [
      "host_since 21\n",
      "host_response_time 10490\n",
      "host_response_rate 10490\n",
      "host_is_superhost 21\n",
      "host_identity_verified 21\n",
      "city 3\n",
      "neighbourhood_group_cleansed 0\n",
      "property_type 0\n",
      "room_type 0\n",
      "bed_type 0\n",
      "amenities 0\n",
      "price 0\n",
      "security_deposit 9357\n",
      "cleaning_fee 7085\n",
      "extra_people 0\n",
      "first_review 4156\n",
      "requires_license 0\n",
      "instant_bookable 0\n",
      "cancellation_policy 0\n",
      "require_guest_profile_picture 0\n",
      "require_guest_phone_verification 0\n"
     ]
    }
   ],
   "source": [
    "# Review all the categorical columns and assess missing values\n",
    "\n",
    "cat_cols = listings_drop.select_dtypes(include=['object']).columns\n",
    "for col in cat_cols:\n",
    "        print(col,listings_drop[col].isnull().sum())"
   ]
  },
  {
   "cell_type": "markdown",
   "metadata": {},
   "source": [
    "host_response_time and host_response_rate. host_since seem to have not available as valid entry, so we replace nan by the string 'N/A'\n",
    "\n",
    "host_is_superhost, host_identity_verified  we will set to false for NaN. \n",
    "\n",
    "city we set to Berlin\n",
    "\n",
    "security_deposit and cleaning_fee we will set to 0, assuming that there is none in the NaN case.\n",
    "\n",
    "In the code below, we see that missing values in first_review indicate that there are no reviews. We will convert this column into time_since_first_review. \n"
   ]
  },
  {
   "cell_type": "code",
   "execution_count": 196,
   "metadata": {},
   "outputs": [
    {
     "name": "stdout",
     "output_type": "stream",
     "text": [
      "(4156, 38)\n"
     ]
    }
   ],
   "source": [
    "# check that all NaN in first_review have no review\n",
    "temp = listings_drop.loc[(listings_drop['first_review'].isnull() == 1) &( listings_drop['reviews_per_month']== 0)] \n",
    "print(temp.shape)"
   ]
  },
  {
   "cell_type": "code",
   "execution_count": 197,
   "metadata": {},
   "outputs": [],
   "source": [
    "def conversion(date_time_str):\n",
    "    date_time_obj = datetime.datetime.strptime(date_time_str, '%Y-%m-%d')\n",
    "    date = datetime.datetime.strptime('2019-07-22', '%Y-%m-%d')\n",
    "    date1 = date.date()\n",
    "    date2 = date_time_obj.date()\n",
    "    delta = date1 - date2\n",
    "    return delta.days"
   ]
  },
  {
   "cell_type": "code",
   "execution_count": 198,
   "metadata": {},
   "outputs": [],
   "source": [
    "# Impute the missing values.\n",
    "date_str = '2019-07-22'\n",
    "\n",
    "\n",
    "listings_drop['first_review'] = listings_drop['first_review'].fillna(date_str)\n",
    "listings_drop['city'] = listings_drop['city'].fillna('Berlin')\n",
    "\n",
    "temp = [ e for e in cat_cols if not e in ('first_review', 'city')]    \n",
    "    \n",
    "for col in temp :\n",
    "    if col in ['host_response_time', 'host_response_rate', 'host_since'] :\n",
    "        listings_drop[col] = listings_drop[col].fillna('N/A')\n",
    "    else :\n",
    "        listings_drop[col] = listings_drop[col].fillna(0)\n",
    " \n",
    "\n",
    "# create new colum \n",
    "listings_drop['time_first'] = listings_drop['first_review'].apply(conversion)"
   ]
  },
  {
   "cell_type": "markdown",
   "metadata": {},
   "source": [
    "We check that there are 61 unique values in the 'city' column. Most of them are variants of Berlin, but a number of them are in fact places outside of Berlin. We will drop those. "
   ]
  },
  {
   "cell_type": "code",
   "execution_count": 199,
   "metadata": {},
   "outputs": [
    {
     "data": {
      "text/plain": [
       "array(['Berlin', 'Berlin (Kreuzberg)', 'Friedrichshain',\n",
       "       'Berlin / Kleinmachnow', 'Berlin-Wedding', 'Mitte', 'Berlin-Mitte',\n",
       "       'Weissensee, Berlin', 'Woltersdorf', 'Berlin-Treptow',\n",
       "       'Kleinmachnow', 'Berlin-Friedrichshain',\n",
       "       'Baseler Straße 91 A, 12205 Berlin ', 'Berlin-Neukölln',\n",
       "       'Berlin-Zehlendorf', 'Baseler Straße 91 A,12205 Berlin',\n",
       "       'Berlin, Charlottenburg', 'Βερολίνο', 'Berlin-Tiergarten',\n",
       "       'Kreuzberg, Berlin', 'Berlino', 'Berlin ', 'Berlín',\n",
       "       'Berlin - Schöneberg', 'Берлин', 'Berlim', '柏林', 'Berlin Neukölln',\n",
       "       'Berlin/Steglitz', 'Berlin - Mitte', 'Prenzlauer Berg',\n",
       "       'Berlin, friedrichshain ', 'Berlin- Charlottenburg',\n",
       "       'Berlin-Wilmersdorf', 'Wannsee', 'Berlin, Schöneberg', 'berlin',\n",
       "       'Berlin (Wedding)', 'Mitte/Tiergarten', 'Köpenick',\n",
       "       'Mitte/Kreuzberg', 'Berlin Friedrichshain',\n",
       "       'Berlin Prenzlauer Berg ', '10999 Berlin', 'Wilmersdorf', 'Erkner',\n",
       "       'Berlin, Berlin, DE', 'Schöneberg', 'Hoppegarten', '.', '*',\n",
       "       'Hennigsdorf', 'Potsdam', 'berlin ', 'Charlottenburg',\n",
       "       'Berlin-Kreuzberg', 'Weissensee', 'Zeuthen', 'Mühlenbecker Land',\n",
       "       'Berlin Mitte', 'Eichwalde'], dtype=object)"
      ]
     },
     "execution_count": 199,
     "metadata": {},
     "output_type": "execute_result"
    }
   ],
   "source": [
    "listings_drop['city'].unique()"
   ]
  },
  {
   "cell_type": "code",
   "execution_count": 200,
   "metadata": {},
   "outputs": [],
   "source": [
    "notBerlin = ('Zeuthen', 'Kleinmachnow', 'Woltersdorf', \n",
    "             'Köpenick', 'Erkner', 'Hoppegarten', 'Hennigsdorf', 'Eichwalde' )\n",
    "\n",
    "\n",
    "\n",
    "def indicator(x):\n",
    "    if x in notBerlin :\n",
    "        return 1\n",
    "    return 0\n",
    "\n",
    "listings_drop['Berlin'] = listings_drop['city'].apply(indicator)\n"
   ]
  },
  {
   "cell_type": "code",
   "execution_count": 201,
   "metadata": {},
   "outputs": [],
   "source": [
    "df_list = listings_drop[listings_drop['Berlin'] == 0]\n",
    "\n",
    "df_list = df_list.drop( ['city','first_review', 'Berlin'], axis =1 )  "
   ]
  },
  {
   "cell_type": "code",
   "execution_count": 202,
   "metadata": {},
   "outputs": [
    {
     "name": "stdout",
     "output_type": "stream",
     "text": [
      "host_since                          0\n",
      "host_response_time                  0\n",
      "host_response_rate                  0\n",
      "host_is_superhost                   0\n",
      "host_identity_verified              0\n",
      "neighbourhood_group_cleansed        0\n",
      "property_type                       0\n",
      "room_type                           0\n",
      "accommodates                        0\n",
      "bathrooms                           0\n",
      "bedrooms                            0\n",
      "beds                                0\n",
      "bed_type                            0\n",
      "amenities                           0\n",
      "price                               0\n",
      "security_deposit                    0\n",
      "cleaning_fee                        0\n",
      "guests_included                     0\n",
      "extra_people                        0\n",
      "minimum_nights                      0\n",
      "maximum_nights                      0\n",
      "availability_365                    0\n",
      "number_of_reviews                   0\n",
      "review_scores_rating                0\n",
      "review_scores_accuracy              0\n",
      "review_scores_cleanliness           0\n",
      "review_scores_checkin               0\n",
      "review_scores_communication         0\n",
      "review_scores_value                 0\n",
      "requires_license                    0\n",
      "instant_bookable                    0\n",
      "cancellation_policy                 0\n",
      "require_guest_profile_picture       0\n",
      "require_guest_phone_verification    0\n",
      "calculated_host_listings_count      0\n",
      "reviews_per_month                   0\n",
      "time_first                          0\n",
      "dtype: int64\n"
     ]
    }
   ],
   "source": [
    "#Check there are no NaN in this list\n",
    "\n",
    "print(df_list.isnull().sum())"
   ]
  },
  {
   "cell_type": "code",
   "execution_count": 205,
   "metadata": {},
   "outputs": [
    {
     "name": "stdout",
     "output_type": "stream",
     "text": [
      "host_since 3086\n",
      "host_response_time 5\n",
      "host_response_rate 76\n",
      "host_is_superhost 3\n",
      "host_identity_verified 3\n",
      "neighbourhood_group_cleansed 12\n",
      "property_type 35\n",
      "room_type 3\n",
      "bed_type 5\n",
      "amenities 20854\n",
      "price 326\n",
      "security_deposit 161\n",
      "cleaning_fee 119\n",
      "extra_people 66\n",
      "requires_license 2\n",
      "instant_bookable 2\n",
      "cancellation_policy 6\n",
      "require_guest_profile_picture 2\n",
      "require_guest_phone_verification 2\n"
     ]
    }
   ],
   "source": [
    "cat_cols = df_list.select_dtypes(include=['object']).columns\n",
    "for col in cat_cols:\n",
    "        print(col,listings_drop[col].nunique())"
   ]
  },
  {
   "cell_type": "code",
   "execution_count": null,
   "metadata": {},
   "outputs": [],
   "source": [
    "#NEXT convert price, sec deposit, fee, extra people to prices and host to a continuous variable"
   ]
  }
 ],
 "metadata": {
  "kernelspec": {
   "display_name": "Python 3",
   "language": "python",
   "name": "python3"
  },
  "language_info": {
   "codemirror_mode": {
    "name": "ipython",
    "version": 3
   },
   "file_extension": ".py",
   "mimetype": "text/x-python",
   "name": "python",
   "nbconvert_exporter": "python",
   "pygments_lexer": "ipython3",
   "version": "3.6.7"
  }
 },
 "nbformat": 4,
 "nbformat_minor": 2
}
